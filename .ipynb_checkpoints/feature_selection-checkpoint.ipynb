{
 "cells": [
  {
   "cell_type": "code",
   "execution_count": 6,
   "metadata": {
    "collapsed": true
   },
   "outputs": [],
   "source": [
    "def convert_to_float(not_float):\n",
    "    float_list = []\n",
    "    for i in not_float:\n",
    "            float_list.append([float(j) for j in i])\n",
    "    return float_list"
   ]
  },
  {
   "cell_type": "code",
   "execution_count": 48,
   "metadata": {},
   "outputs": [],
   "source": [
    "def process_file(raw_file_name):\n",
    "    raw_file = open(raw_file_name, 'r')\n",
    "    str_data = []\n",
    "    with open(raw_file_name) as file:\n",
    "        raw_data = file.readlines()\n",
    "    str_data = [i.split() for i in raw_data]\n",
    "    return convert_to_float(str_data)"
   ]
  },
  {
   "cell_type": "code",
   "execution_count": null,
   "metadata": {},
   "outputs": [],
   "source": [
    "def getmean()\n",
    "\n",
    "def normoalize()"
   ]
  },
  {
   "cell_type": "code",
   "execution_count": 49,
   "metadata": {},
   "outputs": [],
   "source": [
    "import math\n",
    "def euclideanDistance(instance_a, instance_b, num_features):\n",
    "    #remove classfication for calculation\n",
    "    classification_1 = instance_a.pop(0)\n",
    "    distance = 0\n",
    "    #print(repr(instance_a) +\"\\n\"+ repr(instance_b))\n",
    "    for i in range(0,num_features):\n",
    "       # print(\"instance a = \" +  repr(instance_a[i]) + \" and instance b = \" +  repr(instance_b[i]))\n",
    "        distance = distance + pow((instance_a[i] - instance_b[i]), 2)\n",
    "       # print(\"and the distance is: \" + repr(distance) + \"\\n\")\n",
    "    #add classification back\n",
    "    instance_a.insert(0, classification_1)\n",
    "    return math.sqrt(distance)"
   ]
  },
  {
   "cell_type": "code",
   "execution_count": 50,
   "metadata": {},
   "outputs": [
    {
     "name": "stdout",
     "output_type": "stream",
     "text": [
      "Distance: 0.9341299134885576\n"
     ]
    }
   ],
   "source": [
    "data1 = [ 2.0000000e+00 ,2.8621318e+00,   3.8345958e+00,   3.8510244e+00,   2.5354832e+00,   1.9743413e+00,   2.4662208e+00,   1.0958087e+00,   2.1801037e+00,   2.6330608e+00,   3.1483889e+00]\n",
    "data2 = [2.0789125e+00, 3.3845572e+00   ,4.0889981e+00   ,3.6589007e+00   ,3.3362607e+00   ,4.9383758e+00   ,1.9881081e+00   ,3.6009237e+00   ,3.1205240e+00  ,1.3965097e+00]\n",
    "distance = euclideanDistance(data1, data2, 3)\n",
    "print( 'Distance: ' + repr(distance))"
   ]
  },
  {
   "cell_type": "code",
   "execution_count": 53,
   "metadata": {},
   "outputs": [],
   "source": [
    "def nearest_neighbor(data, test, feature_num ):\n",
    "    best_neighbor = [-1, -1]\n",
    "    distance = float('inf')\n",
    "    for i in data:\n",
    "        test_distance = euclideanDistance(i, test, feature_num)\n",
    "        if test_distance < distance:\n",
    "            distance = test_distance\n",
    "            #print(i[0])\n",
    "            best_neighbor[0] = i[0]\n",
    "            #print(test_distance)\n",
    "            best_neighbor[1]= test_distance\n",
    "    return best_neighbor\n",
    "            "
   ]
  },
  {
   "cell_type": "code",
   "execution_count": 55,
   "metadata": {},
   "outputs": [
    {
     "name": "stdout",
     "output_type": "stream",
     "text": [
      "[2.0, 3.370008305125311]\n"
     ]
    }
   ],
   "source": [
    "trainSet = [[2.0000000e+00 ,2.8621318e+00,   3.8345958e+00,   3.8510244e+00,   2.5354832e+00,   1.9743413e+00,   2.4662208e+00,   1.0958087e+00,   2.1801037e+00,   2.6330608e+00,   3.1483889e+00], [1.0000000e+00  ,2.0789125e+00, 3.3845572e+00   ,4.0889981e+00   ,3.6589007e+00   ,3.3362607e+00   ,4.9383758e+00   ,1.9881081e+00   ,3.6009237e+00   ,3.1205240e+00  ,1.3965097e+00]]\n",
    "testInstance = [ 2.2040188e+00,   1.2717340e+00,   3.1890461e+00,   2.9330737e+00,   3.5206010e+00,   2.5425605e+00,   2.2630886e+00,   3.6348978e+00,   3.5018469e+00,   4.1835761e+00]\n",
    "k = 7\n",
    "neighbor = nearest_neighbor(trainSet, testInstance, k)\n",
    "print(neighbor)\n"
   ]
  },
  {
   "cell_type": "code",
   "execution_count": null,
   "metadata": {
    "collapsed": true
   },
   "outputs": [],
   "source": []
  },
  {
   "cell_type": "code",
   "execution_count": null,
   "metadata": {
    "collapsed": true
   },
   "outputs": [],
   "source": []
  },
  {
   "cell_type": "code",
   "execution_count": null,
   "metadata": {
    "collapsed": true
   },
   "outputs": [],
   "source": []
  },
  {
   "cell_type": "code",
   "execution_count": null,
   "metadata": {
    "collapsed": true
   },
   "outputs": [],
   "source": []
  },
  {
   "cell_type": "code",
   "execution_count": 8,
   "metadata": {},
   "outputs": [
    {
     "name": "stdout",
     "output_type": "stream",
     "text": [
      "[1.0, 2.5939367, 2.3497572, 2.0917892, 3.1185225, 3.3214184, 4.1834119, 2.4700541, 2.1642753, 2.9010144, 3.4603365]\n"
     ]
    }
   ],
   "source": []
  },
  {
   "cell_type": "code",
   "execution_count": 10,
   "metadata": {},
   "outputs": [
    {
     "name": "stdout",
     "output_type": "stream",
     "text": [
      "inf\n"
     ]
    }
   ],
   "source": [
    "raw_file_open = 'CS170Smalltestdata__37.txt'\n",
    "data = process_file(raw_file_open)\n",
    "nearest_neighbor(data, test, )\n",
    "#print(data)\n",
    "#print(data[0][1])\n",
    "#print(data[1])\n"
   ]
  },
  {
   "cell_type": "code",
   "execution_count": null,
   "metadata": {
    "collapsed": true
   },
   "outputs": [],
   "source": []
  }
 ],
 "metadata": {
  "celltoolbar": "Raw Cell Format",
  "kernelspec": {
   "display_name": "Python 3",
   "language": "python",
   "name": "python3"
  },
  "language_info": {
   "codemirror_mode": {
    "name": "ipython",
    "version": 3
   },
   "file_extension": ".py",
   "mimetype": "text/x-python",
   "name": "python",
   "nbconvert_exporter": "python",
   "pygments_lexer": "ipython3",
   "version": "3.6.3"
  }
 },
 "nbformat": 4,
 "nbformat_minor": 2
}
