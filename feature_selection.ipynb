{
 "cells": [
  {
   "cell_type": "code",
   "execution_count": 9,
   "metadata": {},
   "outputs": [],
   "source": [
    "#done\n",
    "def convert_to_float(not_float):\n",
    "    float_list = []\n",
    "    for i in not_float:\n",
    "            float_list.append([float(j) for j in i])\n",
    "    return float_list"
   ]
  },
  {
   "cell_type": "code",
   "execution_count": 10,
   "metadata": {},
   "outputs": [],
   "source": [
    "#TODO: split  test with training set\n",
    "def process_file(raw_file_name):\n",
    "    raw_file = open(raw_file_name, 'r')\n",
    "    str_data = []\n",
    "    with open(raw_file_name) as file:\n",
    "        raw_data = file.readlines()\n",
    "    str_data = [i.split() for i in raw_data]\n",
    "    return convert_to_float(str_data)"
   ]
  },
  {
   "cell_type": "code",
   "execution_count": 11,
   "metadata": {},
   "outputs": [],
   "source": [
    "#done\n",
    "def take_out_classification(data):\n",
    "    classfication = []\n",
    "    for i in data:\n",
    "        classfication.append(i.pop(0))\n",
    "    return classfication"
   ]
  },
  {
   "cell_type": "code",
   "execution_count": 12,
   "metadata": {},
   "outputs": [],
   "source": [
    "#done\n",
    "def add_back_classification(data, list_of_classfication):\n",
    "    for i in range(0, len(data)):\n",
    "        data[i].insert(0, float(list_of_classfication[i]))"
   ]
  },
  {
   "cell_type": "code",
   "execution_count": 13,
   "metadata": {},
   "outputs": [],
   "source": [
    "#done\n",
    "def getmean(data, features, instances):\n",
    "    mean_list = []\n",
    "    column = 0\n",
    "    #classif = take_out_classification(data)\n",
    "    for i in range(features):\n",
    "        mean = sum(row[column] for row in data)/instances\n",
    "        column = column + 1\n",
    "        mean_list.append(mean)\n",
    "    #add_back_classification(data, classif)\n",
    "    return mean_list"
   ]
  },
  {
   "cell_type": "code",
   "execution_count": 14,
   "metadata": {},
   "outputs": [],
   "source": [
    "#done\n",
    "import math\n",
    "def getstd(data, mean_list, features, instances):\n",
    "    standard_d_list = []\n",
    "    #classif = take_out_classification(data)\n",
    "    mean_list = getmean(data, features, instances)\n",
    "    for i in range(features):\n",
    "        \n",
    "        standard_d = math.sqrt((sum(pow((row[i] - mean_list[i]), 2) for row in data)) / instances)\n",
    "        standard_d_list.append(standard_d)\n",
    "    #add_back_classification(data, classif)\n",
    "    return standard_d_list"
   ]
  },
  {
   "cell_type": "code",
   "execution_count": 15,
   "metadata": {},
   "outputs": [],
   "source": [
    "#done\n",
    "def scale(data, features, instances):\n",
    "    classif = take_out_classification(data)\n",
    "    mean_list = getmean(data, features, instances)\n",
    "    standard_d_list = getstd(data, mean_list, features, instances)\n",
    "    \n",
    "    for i in range(0, instances):\n",
    "        for j in range(features):\n",
    "            #print(\"in loop\")\n",
    "            #print(data[i][j])\n",
    "            data[i][j] = (data[i][j] - mean_list[j])/ standard_d_list[j]\n",
    "    add_back_classification(data, classif)\n",
    "    return data"
   ]
  },
  {
   "cell_type": "code",
   "execution_count": null,
   "metadata": {},
   "outputs": [],
   "source": []
  },
  {
   "cell_type": "code",
   "execution_count": null,
   "metadata": {},
   "outputs": [],
   "source": []
  },
  {
   "cell_type": "code",
   "execution_count": null,
   "metadata": {},
   "outputs": [],
   "source": []
  },
  {
   "cell_type": "code",
   "execution_count": 16,
   "metadata": {},
   "outputs": [
    {
     "name": "stdout",
     "output_type": "stream",
     "text": [
      "me \n",
      "[[2.0, 0.9999999999999993, 1.0, 0.9999999999999993, -0.9999999999999989, -0.9999999999999999, -1.0, -1.0, -1.0, -0.9999999999999994, -1.0000000000000004], [1.0, -1.0000000000000007, -1.0, -1.0000000000000007, 1.000000000000001, 1.0000000000000002, 1.0, 1.0, 1.0, 1.0000000000000004, 0.9999999999999996]]\n"
     ]
    }
   ],
   "source": [
    "data1 = [[ 2.0000000e+00 ,2.8621318e+00,   3.8345958e+00,   3.8510244e+00,   2.5354832e+00,   1.9743413e+00,   2.4662208e+00,   1.0958087e+00,   2.1801037e+00,   2.6330608e+00,   3.1483889e+00],  [1.0000000e+00, 2.2040188e+00,   1.2717340e+00,   3.1890461e+00,   2.9330737e+00,   3.5206010e+00,   2.5425605e+00,   2.2630886e+00,   3.6348978e+00,   3.5018469e+00,   4.1835761e+00]]\n",
    "\n",
    "print(\"me \")\n",
    "#print(data1)\n",
    "#print(getmean(data1, 2, 2))\n",
    "#print(getstd(data1,getmean(data1, 2, 2),2, 2))\n",
    "print(scale(data1, 10, 2))\n",
    "#print(data1)"
   ]
  },
  {
   "cell_type": "code",
   "execution_count": 348,
   "metadata": {},
   "outputs": [],
   "source": [
    "#done\n",
    "def euclideanDistance(instance_a, instance_b, features):\n",
    "    #remove classfication for calculation\n",
    "    #print(instance_a)\n",
    "    classification_1 = instance_a.pop(0)\n",
    "    classification_2 = instance_b.pop(0)\n",
    "    \n",
    "    distance = 0\n",
    "    #print(repr(instance_a) +\"\\n\"+ repr(instance_b))\n",
    "    for i in range(len(features)):\n",
    "        #print(instance_b)\n",
    "        #print(features[i])\n",
    "        #print(instance_b[features[i]])\n",
    "       # print(\"instance a = \" +  repr(instance_a[i]) + \" and instance b = \" +  repr(instance_b[i]))\n",
    "        distance = distance + pow((instance_a[features[i]] - instance_b[features[i]]), 2)\n",
    "       # print(\"and the distance is: \" + repr(distance) + \"\\n\")\n",
    "    \n",
    "    #add classification back\n",
    "    instance_a.insert(0, classification_1)\n",
    "    instance_b.insert(0, classification_2)\n",
    "    return math.sqrt(distance)"
   ]
  },
  {
   "cell_type": "code",
   "execution_count": 349,
   "metadata": {},
   "outputs": [
    {
     "name": "stdout",
     "output_type": "stream",
     "text": [
      "Distance: 0.7832192999999998\n"
     ]
    }
   ],
   "source": [
    "data1 = [ 2.0000000e+00 ,2.8621318e+00,   3.8345958e+00,   3.8510244e+00,   2.5354832e+00,   1.9743413e+00,   2.4662208e+00,   1.0958087e+00,   2.1801037e+00,   2.6330608e+00,   3.1483889e+00]\n",
    "data2 = [2.0000000e+00, 2.0789125e+00, 3.3845572e+00   ,4.0889981e+00   ,3.6589007e+00   ,3.3362607e+00   ,4.9383758e+00   ,1.9881081e+00   ,3.6009237e+00   ,3.1205240e+00  ,1.3965097e+00]\n",
    "distance = euclideanDistance(data1, data2, [0])\n",
    "print( 'Distance: ' + repr(distance))"
   ]
  },
  {
   "cell_type": "code",
   "execution_count": 359,
   "metadata": {},
   "outputs": [],
   "source": [
    "def nearest_neighbor(data, test, features):\n",
    "    best_neighbor = [-1, -1]\n",
    "    distance = float('inf')\n",
    "    test_distance = float('inf')\n",
    "    for i in data:\n",
    "        if len(features) > 0:\n",
    "            test_distance = euclideanDistance(i, test, features)\n",
    "        if test_distance < distance:\n",
    "            distance = test_distance\n",
    "            #print(i[0])\n",
    "            best_neighbor[0] = i[0]\n",
    "            #print(test_distance)\n",
    "            best_neighbor[1]= test_distance\n",
    "    return best_neighbor\n",
    "            "
   ]
  },
  {
   "cell_type": "code",
   "execution_count": 360,
   "metadata": {},
   "outputs": [
    {
     "name": "stdout",
     "output_type": "stream",
     "text": [
      "[-1, -1]\n"
     ]
    }
   ],
   "source": [
    "trainSet = [[2.0000000e+00 ,2.8621318e+00,   3.8345958e+00,   3.8510244e+00,   2.5354832e+00,   1.9743413e+00,   2.4662208e+00,   1.0958087e+00,   2.1801037e+00,   2.6330608e+00,   3.1483889e+00], [1.0000000e+00  ,2.0789125e+00, 3.3845572e+00   ,4.0889981e+00   ,3.6589007e+00   ,3.3362607e+00   ,4.9383758e+00   ,1.9881081e+00   ,3.6009237e+00   ,3.1205240e+00  ,1.3965097e+00]]\n",
    "testInstance = [1.0000000e+00  ,2.0789125e+00, 3.3845572e+00   ,4.0889981e+00   ,3.6589007e+00   ,3.3362607e+00   ,4.9383758e+00   ,1.9881081e+00   ,3.6009237e+00   ,3.1205240e+00  ,1.3965097e+00]\n",
    "k = 1\n",
    "neighbor = nearest_neighbor(trainSet, testInstance, [])\n",
    "print(neighbor)\n"
   ]
  },
  {
   "cell_type": "code",
   "execution_count": 394,
   "metadata": {
    "scrolled": true
   },
   "outputs": [],
   "source": [
    "import numpy as np\n",
    "def compute_accuracy(data,feature_set):\n",
    "    feature = list(feature_set)\n",
    "    #print(feature)\n",
    "    accuracy = 0\n",
    "    test = []\n",
    "    neighbor = []\n",
    "    #random(data)\n",
    "    for i in range(96):\n",
    "        np.random.shuffle(data)\n",
    "        #print(data)\n",
    "        test = data.pop(0)\n",
    "        #print(\"test \" + repr(test[0]))\n",
    "        neighbor = nearest_neighbor(data, test, feature)\n",
    "        #print(\"Neighbor \" + repr(neighbor))\n",
    "        #print(\"found \" + repr(nearest_neighbor(data, test, feature)[0]))\n",
    "        if  neighbor[0] == test[0]:\n",
    "            accuracy = accuracy + 1\n",
    "        data.append(test)\n",
    "    accuracy = accuracy/97\n",
    "    return accuracy * 100\n",
    "        "
   ]
  },
  {
   "cell_type": "code",
   "execution_count": 395,
   "metadata": {},
   "outputs": [
    {
     "name": "stdout",
     "output_type": "stream",
     "text": [
      "0.0\n"
     ]
    }
   ],
   "source": [
    "trainSet = [[2.0000000e+00 ,2.8621318e+00,   3.8345958e+00,   3.8510244e+00,   2.5354832e+00,   1.9743413e+00,   2.4662208e+00,   1.0958087e+00,   2.1801037e+00,   2.6330608e+00,   3.1483889e+00], [1.0000000e+00  ,2.0789125e+00, 3.3845572e+00   ,4.0889981e+00   ,3.6589007e+00   ,3.3362607e+00   ,4.9383758e+00   ,1.9881081e+00   ,3.6009237e+00   ,3.1205240e+00  ,1.3965097e+00], [ 2.0000000e+00, 2.2040188e+00,   1.2717340e+00,   3.1890461e+00,   2.9330737e+00,   3.5206010e+00,   2.5425605e+00,   2.2630886e+00,   3.6348978e+00,   3.5018469e+00,   4.1835761e+00], [1.0000000e+00, 2.2040188e+00, 1.2717340e+00, 3.1890461e+00, 2.9330737e+00, 3.5206010e+00, 2.5425605e+00, 2.2630886e+00, 3.6348978e+00, 3.5018469e+00, 4.1835761e+00], [2.0000000e+00  , 3.2174703e+00  , 4.1419433e+00  , 1.6861336e+00 ,  3.0024740e+00  , 4.1632536e+00  , 2.0213114e+00  , 3.7500223e+00  , 2.4615493e+00 ,  2.4107511e+00 ,2.3383039e+00]]\n",
    "accuracy = 0\n",
    "accuracy = compute_accuracy(trainSet, [])\n",
    "print(accuracy)"
   ]
  },
  {
   "cell_type": "code",
   "execution_count": 507,
   "metadata": {},
   "outputs": [],
   "source": [
    "def forward_selection(data):\n",
    "    features = len(data[0]) - 1\n",
    "    #print(features)\n",
    "    feature_set = set()\n",
    "    best_accuracy = 0\n",
    "    for i in range(features):\n",
    "        print(\"At level \" + repr(i))\n",
    "        for j in range(features):\n",
    "            if not feature_set:\n",
    "                print(\"Has no features\")\n",
    "                feature_set.add(j)\n",
    "                break\n",
    "            if j not in feature_set:\n",
    "                feature_set.add(j)\n",
    "                accuracy = compute_accuracy(data, feature_set)\n"
   ]
  },
  {
   "cell_type": "code",
   "execution_count": 508,
   "metadata": {},
   "outputs": [
    {
     "name": "stdout",
     "output_type": "stream",
     "text": [
      "At level 0\n",
      "Has no features\n",
      "At level 1\n",
      "At level 2\n",
      "At level 3\n",
      "At level 4\n",
      "At level 5\n",
      "At level 6\n",
      "At level 7\n",
      "At level 8\n",
      "At level 9\n"
     ]
    }
   ],
   "source": [
    "trainSet = [[2.0000000e+00 ,2.8621318e+00,   3.8345958e+00,   3.8510244e+00,   2.5354832e+00,   1.9743413e+00,   2.4662208e+00,   1.0958087e+00,   2.1801037e+00,   2.6330608e+00,   3.1483889e+00], [1.0000000e+00  ,2.0789125e+00, 3.3845572e+00   ,4.0889981e+00   ,3.6589007e+00   ,3.3362607e+00   ,4.9383758e+00   ,1.9881081e+00   ,3.6009237e+00   ,3.1205240e+00  ,1.3965097e+00], [ 2.0000000e+00, 2.2040188e+00,   1.2717340e+00,   3.1890461e+00,   2.9330737e+00,   3.5206010e+00,   2.5425605e+00,   2.2630886e+00,   3.6348978e+00,   3.5018469e+00,   4.1835761e+00], [1.0000000e+00, 2.2040188e+00, 1.2717340e+00, 3.1890461e+00, 2.9330737e+00, 3.5206010e+00, 2.5425605e+00, 2.2630886e+00, 3.6348978e+00, 3.5018469e+00, 4.1835761e+00], [2.0000000e+00  , 3.2174703e+00  , 4.1419433e+00  , 1.6861336e+00 ,  3.0024740e+00  , 4.1632536e+00  , 2.0213114e+00  , 3.7500223e+00  , 2.4615493e+00 ,  2.4107511e+00 ,2.3383039e+00]]\n",
    "\n",
    "forward_selection(trainSet)"
   ]
  },
  {
   "cell_type": "code",
   "execution_count": null,
   "metadata": {},
   "outputs": [],
   "source": [
    "            if j not in feature_set:\n",
    "                \n",
    "                #print(j)\n",
    "                \n",
    "                else:\n",
    "                    feature_set.pop()\n",
    "                    feature_set.add(j)\n",
    "                    \n",
    "                print(\"Using: \" +  repr(feature_set))\n",
    "            \n",
    "            \n",
    "            elif is_empty(feature_set):\n",
    "                feature_set.add"
   ]
  },
  {
   "cell_type": "code",
   "execution_count": 494,
   "metadata": {},
   "outputs": [
    {
     "name": "stdout",
     "output_type": "stream",
     "text": [
      "Number is 1\n",
      "Number is 2\n",
      "Number is 3\n",
      "Number is 4\n",
      "Number is 1\n",
      "Number is 2\n",
      "Number is 3\n",
      "Number is 4\n",
      "Number is 1\n",
      "Number is 2\n",
      "Number is 3\n",
      "Number is 4\n",
      "Number is 1\n",
      "Number is 2\n",
      "Number is 3\n",
      "Number is 4\n",
      "Number is 1\n",
      "Number is 2\n",
      "Number is 3\n",
      "Number is 4\n",
      "Number is 1\n",
      "Number is 2\n",
      "Number is 3\n",
      "Number is 4\n",
      "Number is 1\n",
      "Number is 2\n",
      "Number is 3\n",
      "Number is 4\n",
      "Number is 1\n",
      "Number is 2\n",
      "Number is 3\n",
      "Number is 4\n",
      "Number is 1\n",
      "Number is 2\n",
      "Number is 3\n",
      "Number is 4\n",
      "Number is 1\n",
      "Number is 2\n",
      "Number is 3\n",
      "Number is 4\n",
      "Out of loop\n"
     ]
    }
   ],
   "source": [
    "number = 0\n",
    "\n",
    "for number in range(10):\n",
    "    for number in range(10):\n",
    "        number = number + 1\n",
    "        if number == 5:\n",
    "            break # break here\n",
    "        print('Number is ' + str(number))\n",
    "print('Out of loop')"
   ]
  },
  {
   "cell_type": "code",
   "execution_count": null,
   "metadata": {
    "collapsed": true
   },
   "outputs": [],
   "source": []
  },
  {
   "cell_type": "code",
   "execution_count": 17,
   "metadata": {
    "collapsed": true
   },
   "outputs": [],
   "source": [
    "raw_file_open = 'CS170Smalltestdata__37.txt'\n",
    "data = process_file(raw_file_open)\n",
    "#nearest_neighbor(data, test, )\n",
    "#print(data)\n",
    "#print(data[0][1])\n",
    "#print(data[1])\n"
   ]
  },
  {
   "cell_type": "code",
   "execution_count": null,
   "metadata": {
    "collapsed": true
   },
   "outputs": [],
   "source": []
  }
 ],
 "metadata": {
  "kernelspec": {
   "display_name": "Python 3",
   "language": "python",
   "name": "python3"
  },
  "language_info": {
   "codemirror_mode": {
    "name": "ipython",
    "version": 3
   },
   "file_extension": ".py",
   "mimetype": "text/x-python",
   "name": "python",
   "nbconvert_exporter": "python",
   "pygments_lexer": "ipython3",
   "version": "3.6.3"
  }
 },
 "nbformat": 4,
 "nbformat_minor": 2
}
